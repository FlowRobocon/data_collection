{
 "cells": [
  {
   "cell_type": "code",
   "execution_count": 1,
   "metadata": {},
   "outputs": [],
   "source": [
    "import os\n",
    "from glob import glob\n",
    "import pandas as pd\n",
    "import json"
   ]
  },
  {
   "cell_type": "code",
   "execution_count": 2,
   "metadata": {},
   "outputs": [],
   "source": [
    "speaker = \"system\"\n",
    "max_optional_slots = 2 # 前回生成した条件\n",
    "task_batch_size = 20 # 1タスクにつき20個のDA\n",
    "group_batch_size = 50 # 1グループにつき50タスク\n",
    "\n",
    "da_list = pd.DataFrame(json.load(open(f\"da_list-{speaker}-max{max_optional_slots}/all.json\")))"
   ]
  },
  {
   "cell_type": "code",
   "execution_count": 3,
   "metadata": {},
   "outputs": [],
   "source": [
    "# 第一回で収集されなかったDA\n",
    "result_dpath = \"result-max2\"\n",
    "result = pd.concat([pd.read_csv(result_fpath) for result_fpath in glob(os.path.join(result_dpath, f\"{speaker}*.csv\"))])\n",
    "all_ids = da_list[\"id\"].unique()\n",
    "completed_ids = result[\"id\"].unique()\n",
    "incompleted_ids = set(all_ids) - set(completed_ids)\n",
    "incompleted_da_list = da_list[da_list['id'].isin(incompleted_ids)]\n",
    "incompleted_da_list = json.loads(incompleted_da_list.to_json(orient='records'))"
   ]
  },
  {
   "cell_type": "code",
   "execution_count": 4,
   "metadata": {},
   "outputs": [],
   "source": [
    "# slotの数が0もしくは1つしかないDA\n",
    "## generate_fewer_slots_da_list.ipynbで再生成する\n",
    "fewer_da_list = json.load(open(f\"fewer_slots_da_list-{speaker}-max2/all.json\"))"
   ]
  },
  {
   "cell_type": "code",
   "execution_count": 5,
   "metadata": {},
   "outputs": [],
   "source": [
    "da_list_2nd = incompleted_da_list + fewer_da_list\n",
    "\n",
    "da_list_dpath = f\"da_list-2nd-{speaker}-max{max_optional_slots}\"\n",
    "os.makedirs(da_list_dpath, exist_ok=True)\n",
    "config = {\n",
    "    \"speaker\": speaker,\n",
    "    \"max_optional_slots\": max_optional_slots,\n",
    "    \"task_batch_size\": task_batch_size,\n",
    "    \"group_batch_size\": group_batch_size,\n",
    "    \"total_da\": len(da_list_2nd)\n",
    "}\n",
    "json.dump(config, open(f\"{da_list_dpath}/meta_info.json\", \"w\"), indent=4)\n",
    "json.dump(da_list_2nd, open(f\"{da_list_dpath}/all.json\", \"w\"), indent=4, ensure_ascii=False)\n",
    "\n",
    "from util import split_da_list\n",
    "groups = split_da_list(da_list=da_list_2nd, task_batch_size=task_batch_size, group_batch_size=group_batch_size)\n",
    "for g_i, group in enumerate(groups):\n",
    "    group_dpath = f\"{da_list_dpath}/group{g_i}\"\n",
    "    os.makedirs(group_dpath, exist_ok=True)\n",
    "    for t_i, task in enumerate(group):\n",
    "        json.dump(task, open(f\"{group_dpath}/task{t_i}.json\", \"w\"), indent=4, ensure_ascii=False)"
   ]
  }
 ],
 "metadata": {
  "kernelspec": {
   "display_name": "Python 3.8.10 ('.venv': venv)",
   "language": "python",
   "name": "python3"
  },
  "language_info": {
   "codemirror_mode": {
    "name": "ipython",
    "version": 3
   },
   "file_extension": ".py",
   "mimetype": "text/x-python",
   "name": "python",
   "nbconvert_exporter": "python",
   "pygments_lexer": "ipython3",
   "version": "3.8.10"
  },
  "orig_nbformat": 4,
  "vscode": {
   "interpreter": {
    "hash": "25527c1c9adf31b8ec6ccf3153eb687f1cee7393d59ae2fc03cee9a2c76bf27b"
   }
  }
 },
 "nbformat": 4,
 "nbformat_minor": 2
}
