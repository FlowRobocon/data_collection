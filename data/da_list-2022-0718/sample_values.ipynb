{
 "cells": [
  {
   "cell_type": "code",
   "execution_count": null,
   "metadata": {},
   "outputs": [],
   "source": [
    "import json"
   ]
  },
  {
   "cell_type": "code",
   "execution_count": 1,
   "metadata": {},
   "outputs": [],
   "source": [
    "# るるぶデータ（entity200.json）で利用できるslot-value\n",
    "entities = json.load(open(\"entity200.json\"))\n",
    "key = \"推薦観光地の名称\"\n",
    "values = set()\n",
    "for ent in entities:\n",
    "    if key in ent:\n",
    "        values.add(ent[key])\n",
    "    else:\n",
    "        # print(ent)\n",
    "        pass\n",
    "print(values)\n",
    "print(\"\\\"\"+'\\\", \\\"'.join(values)+\"\\\"\")\n",
    "open(\"tmp.txt\", \"w\").write(\"\\\"\"+'\\\", \\\"'.join(values)+\"\\\"\")"
   ]
  },
  {
   "cell_type": "code",
   "execution_count": null,
   "metadata": {},
   "outputs": [],
   "source": [
    "# レビュー文（entity1000.json）\n",
    "reviews = json.load(open(\"googlemap_reviews.json\"))\n",
    "values = [review[\"Text\"].replace(\"\\\"\", \"'\") for review in reviews]\n",
    "print(\"\\\"\"+'\\\", \\\"'.join(values)+\"\\\"\")\n",
    "open(\"tmp.txt\", \"w\").write(\"\\\"\"+'\\\", \\\"'.join(values)+\"\\\"\")"
   ]
  },
  {
   "cell_type": "code",
   "execution_count": null,
   "metadata": {},
   "outputs": [],
   "source": [
    "ages = [str(i) for i in range(10, 71)]\n",
    "print(\"\\\"\"+'\\\", \\\"'.join(ages)+\"\\\"\")"
   ]
  }
 ],
 "metadata": {
  "kernelspec": {
   "display_name": "Python 3.8.10 ('.venv': venv)",
   "language": "python",
   "name": "python3"
  },
  "language_info": {
   "codemirror_mode": {
    "name": "ipython",
    "version": 3
   },
   "file_extension": ".py",
   "mimetype": "text/x-python",
   "name": "python",
   "nbconvert_exporter": "python",
   "pygments_lexer": "ipython3",
   "version": "3.8.10"
  },
  "orig_nbformat": 4,
  "vscode": {
   "interpreter": {
    "hash": "25527c1c9adf31b8ec6ccf3153eb687f1cee7393d59ae2fc03cee9a2c76bf27b"
   }
  }
 },
 "nbformat": 4,
 "nbformat_minor": 2
}
